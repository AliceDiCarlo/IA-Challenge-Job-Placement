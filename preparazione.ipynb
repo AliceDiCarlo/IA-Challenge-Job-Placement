{
  "nbformat": 4,
  "nbformat_minor": 2,
  "metadata": {
    "colab": {
      "name": "test_alice.ipynb",
      "provenance": [],
      "collapsed_sections": []
    },
    "kernelspec": {
      "name": "python3",
      "display_name": "Python 3"
    },
    "language_info": {
      "name": "python"
    }
  },
  "cells": [
    {
      "cell_type": "markdown",
      "source": [
        "##Importa le librerie"
      ],
      "metadata": {
        "id": "lZ-N82Z4cMzs"
      }
    },
    {
      "cell_type": "code",
      "execution_count": 9,
      "source": [
        "import tensorflow as tf\n",
        "import tensorflow.keras as keras\n",
        "from keras.models import Sequential\n",
        "from keras.layers import *"
      ],
      "outputs": [],
      "metadata": {
        "id": "7a_ZTH3ScAD_"
      }
    },
    {
      "cell_type": "markdown",
      "source": [
        "##Definisce il modello"
      ],
      "metadata": {
        "id": "83ro0LDGcQcP"
      }
    },
    {
      "cell_type": "code",
      "execution_count": 13,
      "source": [
        "## crea rete semplice\n",
        "\n",
        "def create_baseline(dimensione_di_input):\n",
        "    # create model\n",
        "    model = Sequential()\n",
        "    model.add(Dense(10, input_dim=dimensione_di_input, kernel_initializer='normal', activation='relu'))\n",
        "    model.add(Dense(1, kernel_initializer='normal', activation='sigmoid'))\n",
        "    # Compile model. We use the the logarithmic loss function, and the Adam gradient optimizer.\n",
        "    model.compile(loss='binary_crossentropy', optimizer='adam', metrics=['accuracy'])\n",
        "    return model\n",
        "\n",
        "model = create_baseline(100) #100 è un input di test\n",
        "\n",
        "print(model.summary())\n",
        "\n",
        "#sarà così\n",
        "#model.fit(input_preprocessato,output(si/no))"
      ],
      "outputs": [
        {
          "output_type": "stream",
          "name": "stdout",
          "text": [
            "Model: \"sequential_3\"\n",
            "_________________________________________________________________\n",
            "Layer (type)                 Output Shape              Param #   \n",
            "=================================================================\n",
            "dense_6 (Dense)              (None, 10)                1010      \n",
            "_________________________________________________________________\n",
            "dense_7 (Dense)              (None, 1)                 11        \n",
            "=================================================================\n",
            "Total params: 1,021\n",
            "Trainable params: 1,021\n",
            "Non-trainable params: 0\n",
            "_________________________________________________________________\n",
            "None\n"
          ]
        }
      ],
      "metadata": {
        "colab": {
          "base_uri": "https://localhost:8080/"
        },
        "id": "Nhsp7J9icMZB",
        "outputId": "4bf0f1d0-1850-4892-9303-d5f6c430d77c"
      }
    }
  ]
}