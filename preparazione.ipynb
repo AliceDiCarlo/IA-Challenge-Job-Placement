{
  "nbformat": 4,
  "nbformat_minor": 2,
  "metadata": {
    "colab": {
      "name": "test_alice.ipynb",
      "provenance": [],
      "collapsed_sections": []
    },
    "kernelspec": {
      "name": "python3",
      "display_name": "Python 3.9.7 64-bit"
    },
    "language_info": {
      "name": "python",
      "version": "3.9.7",
      "mimetype": "text/x-python",
      "codemirror_mode": {
        "name": "ipython",
        "version": 3
      },
      "pygments_lexer": "ipython3",
      "nbconvert_exporter": "python",
      "file_extension": ".py"
    },
    "interpreter": {
      "hash": "aee8b7b246df8f9039afb4144a1f6fd8d2ca17a180786b69acc140d282b71a49"
    }
  },
  "cells": [
    {
      "cell_type": "markdown",
      "source": [
        "##Importa le librerie"
      ],
      "metadata": {
        "id": "lZ-N82Z4cMzs"
      }
    },
    {
      "cell_type": "code",
      "execution_count": 67,
      "source": [
        "\n",
        "\n",
        "import numpy \n",
        "import pandas as pd\n",
        "!pip install -U \"scikit-learn==0.23.1\"\n",
        "from sklearn.model_selection import train_test_split\n"
      ],
      "outputs": [
        {
          "output_type": "stream",
          "name": "stdout",
          "text": [
            "Requirement already satisfied: scikit-learn==0.23.1 in /Library/Frameworks/Python.framework/Versions/3.9/lib/python3.9/site-packages (0.23.1)\n",
            "Requirement already satisfied: joblib>=0.11 in /Library/Frameworks/Python.framework/Versions/3.9/lib/python3.9/site-packages (from scikit-learn==0.23.1) (1.0.1)\n",
            "Requirement already satisfied: scipy>=0.19.1 in /Library/Frameworks/Python.framework/Versions/3.9/lib/python3.9/site-packages (from scikit-learn==0.23.1) (1.7.1)\n",
            "Requirement already satisfied: threadpoolctl>=2.0.0 in /Library/Frameworks/Python.framework/Versions/3.9/lib/python3.9/site-packages (from scikit-learn==0.23.1) (2.2.0)\n",
            "Requirement already satisfied: numpy>=1.13.3 in /Library/Frameworks/Python.framework/Versions/3.9/lib/python3.9/site-packages (from scikit-learn==0.23.1) (1.20.1)\n"
          ]
        }
      ],
      "metadata": {
        "id": "7a_ZTH3ScAD_"
      }
    },
    {
      "cell_type": "code",
      "execution_count": 68,
      "source": [
        "\n",
        "# Load and preview data \n",
        "data = pd.read_csv(\"Placement_Data_Full_Class.train.csv\")\n",
        "#recruit.head()\n",
        "\n",
        "\n",
        "x = data.drop(['status','salary'], axis=1)\n",
        "y = data['status']\n",
        "\n",
        "\n",
        "# split into train test sets\n",
        "train, test = train_test_split(data, test_size=0.33, random_state=42)\n",
        "print(train.shape)\n",
        "print(test.shape)\n",
        "\n",
        "train.to_csv(r'train.csv')\n",
        "test.to_csv(r'test.csv')\n",
        "\n",
        "# split train and test dataset\n",
        "#train_x, test_x, train_y, test_y = train_test_split(x,y , test_size=0.3, random_state=42)\n",
        "\n",
        "#print(train_x.shape)\n",
        "#print(train_y.shape)\n",
        "\n",
        "#print(\"x\")\n",
        "#print(train_x)\n",
        "#print(\"y\")\n",
        "#print(train_y)"
      ],
      "outputs": [
        {
          "output_type": "stream",
          "name": "stdout",
          "text": [
            "(115, 14)\n",
            "(57, 14)\n"
          ]
        }
      ],
      "metadata": {
        "colab": {
          "base_uri": "https://localhost:8080/"
        },
        "id": "Nhsp7J9icMZB",
        "outputId": "4bf0f1d0-1850-4892-9303-d5f6c430d77c"
      }
    }
  ]
}